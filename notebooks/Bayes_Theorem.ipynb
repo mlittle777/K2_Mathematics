{
 "cells": [
  {
   "cell_type": "markdown",
   "metadata": {},
   "source": [
    "Notation\n",
    "\n",
    "We define two events A and B. The probability of:\n",
    "- A occurring is written as $P(A)$. Similarly we write $P(B)$.\n",
    "- Either A or B occuring (*i.e.*, the union of A and B):  $P(A \\cup B)$\n",
    "- Both A and B occuring (*i.e.*, the intersection of A and B):  $P(A \\cap B)$\n",
    "- The probability of an event B occuring, given that event A has occurred:  $P(B \\mid A)$.\n",
    "- $P(B \\mid A) = P(A)+P(B)-P(A \\cap B)$"
   ]
  },
  {
   "cell_type": "code",
   "execution_count": null,
   "metadata": {
    "collapsed": true
   },
   "outputs": [],
   "source": []
  }
 ],
 "metadata": {
  "kernelspec": {
   "display_name": "Python 3",
   "language": "python",
   "name": "python3"
  },
  "language_info": {
   "codemirror_mode": {
    "name": "ipython",
    "version": 3
   },
   "file_extension": ".py",
   "mimetype": "text/x-python",
   "name": "python",
   "nbconvert_exporter": "python",
   "pygments_lexer": "ipython3",
   "version": "3.6.3"
  }
 },
 "nbformat": 4,
 "nbformat_minor": 2
}
