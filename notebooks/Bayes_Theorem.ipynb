{
 "cells": [
  {
   "cell_type": "markdown",
   "metadata": {},
   "source": [
    "**Notation**\n",
    "\n",
    "We define four events $A$, $B$, $C$, and $D$. \n",
    "\n",
    "- The *union* of $A$ and $B$: $A \\cup B$\n",
    "- The *intersection* of $A$ and $B$: $A \\cap B$\n",
    "- $C$ is a *subset* of $D$: $C \\subset D$\n",
    "\n",
    "\n",
    "The probability of:\n",
    "- $A$ occurring is written as $P(A)$. Similarly we write $P(B)$\n",
    "- Either $A$ or $B$ occuring (*i.e.*, the union of A and B):  $P(A \\cup B)$\n",
    "- Both $A$ and $B$ occuring (*i.e.*, the intersection of A and B):  $P(A \\cap B)$\n",
    "- The probability of an event $B$ occuring, given that event $A$ has occurred:  $P(B \\mid A)$\n",
    "\n",
    "\n",
    "**Relationships**\n",
    "- $P(A \\cup B) = P(A)+P(B)-P(A \\cap B)$\n",
    "- $P(B \\mid A) = P(A \\cap B) \\div P(A)$\n",
    "- $P(A \\cap B) = P(A)P(B \\mid A)$\n",
    "- Statistically Independent: $P(B \\mid A) = P(B)$, which means that $P(A \\cap B) = P(A)P(B)$  \n",
    "\n",
    "\n"
   ]
  },
  {
   "cell_type": "markdown",
   "metadata": {},
   "source": [
    "**Bayes Thereom**\n",
    "\n",
    "Let $B$ be an event that can occur only in conjuction with *one* of a set of mutually exclusive events $A_1, A_2, \\ldots, A_n$.\n",
    "\n",
    "Bayes Theorem states that:\n",
    "\n",
    "$$ P(A_i \\mid B) = \\frac{P(B \\mid A_i)P(A_i)}{P(B \\mid A_1)P(A_1) + P(B \\mid A_2)P(A_2) + \\ldots + P(B \\mid A_n)P(A_n)}$$\n"
   ]
  },
  {
   "cell_type": "markdown",
   "metadata": {
    "collapsed": true
   },
   "source": [
    "**Derivation / Proof of Bayes Thereom**$^1$\n",
    "\n",
    "Since $B$ can occur only in conjuction with one of a set of mutually exclusive events $A_1, A_2, \\ldots, A_n$, that means that:\n",
    "\n",
    "$$ B \\subset (A_1 \\cup A_2 \\cup \\ldots \\cup A_n)$$\n",
    "and\n",
    "$$B = B \\cap (A_1 \\cup A_2 \\cup \\ldots \\cup A_n) = B \\cap A_1 \\cup B \\cap A_2 \\cup \\ldots \\cup B \\cap A_n$$\n",
    "\n",
    "Since the events $A_i$ are mutually exclusive, that means that:\n",
    "\n",
    "$$P(B) = P(B \\cap A_1) + P(B \\cap A_2) + \\ldots + P(B \\cap A_n)$$"
   ]
  },
  {
   "cell_type": "markdown",
   "metadata": {},
   "source": [
    "If $B$ has occured, the probability that a particular $A_i$ occurred is, as defined above:\n",
    "\n",
    "$$P(A_i \\mid B) = \\frac{P(B \\cap A_i)}{P(B)}$$\n",
    "\n",
    "and substituing for $P(B)$:\n",
    "\n",
    "$$P(A_i \\mid B) = \\frac{P(B \\cap A_i)}{P(B) = P(B \\cap A_1) + P(B \\cap A_2) + \\ldots + P(B \\cap A_n)}$$\n",
    "\n",
    "\n",
    "As also noted above $P(B \\cap A_i)$ can be expressed as $P(B \\mid A_i)P(A_i)$ so that we obtain:\n",
    "\n",
    "\n",
    "$$ P(A_i \\mid B) = \\frac{P(B \\mid A_i)P(A_i)}{P(B \\mid A_1)P(A_1) + P(B \\mid A_2)P(A_2) + \\ldots + P(B \\mid A_n)P(A_n)}$$"
   ]
  },
  {
   "cell_type": "markdown",
   "metadata": {},
   "source": [
    "$^1$ From *Naval Operations Analysis*, Naval Institute Press, 1977, Annapolis, MD, pp. 316-322."
   ]
  },
  {
   "cell_type": "code",
   "execution_count": null,
   "metadata": {
    "collapsed": true
   },
   "outputs": [],
   "source": []
  }
 ],
 "metadata": {
  "kernelspec": {
   "display_name": "Python 3",
   "language": "python",
   "name": "python3"
  },
  "language_info": {
   "codemirror_mode": {
    "name": "ipython",
    "version": 3
   },
   "file_extension": ".py",
   "mimetype": "text/x-python",
   "name": "python",
   "nbconvert_exporter": "python",
   "pygments_lexer": "ipython3",
   "version": "3.6.3"
  }
 },
 "nbformat": 4,
 "nbformat_minor": 2
}
